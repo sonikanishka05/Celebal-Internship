{
 "cells": [
  {
   "cell_type": "code",
   "execution_count": 1,
   "id": "6efd7931",
   "metadata": {},
   "outputs": [
    {
     "name": "stdout",
     "output_type": "stream",
     "text": [
      "Enter the number of rows: 8\n",
      "Lower Triangle:\n",
      "*\n",
      "**\n",
      "***\n",
      "****\n",
      "*****\n",
      "******\n",
      "*******\n",
      "********\n",
      "\n",
      "Upper Triangle:\n",
      "********\n",
      " *******\n",
      "  ******\n",
      "   *****\n",
      "    ****\n",
      "     ***\n",
      "      **\n",
      "       *\n",
      "\n",
      "Pyramid:\n",
      "       ***************\n",
      "       *************\n",
      "       ***********\n",
      "       *********\n",
      "       *******\n",
      "       *****\n",
      "       ***\n",
      "       *\n",
      "\n"
     ]
    }
   ],
   "source": [
    "def lower_triangle(n):\n",
    "    print(\"Lower Triangle:\")\n",
    "    for i in range(1, n + 1):\n",
    "        print('*' * i)\n",
    "    print()\n",
    "\n",
    "def upper_triangle(n):\n",
    "    print(\"Upper Triangle:\")\n",
    "    for i in range(n, 0, -1):\n",
    "        print(' ' * (n-i) + '*' * i)\n",
    "    print()\n",
    "    \n",
    "def pyramid(n):\n",
    "    print(\"Pyramid:\")\n",
    "    for i in range(n, 0, -1):\n",
    "        print(' ' * (n-1) + '*' * (2 * i -1))\n",
    "    print()\n",
    "    \n",
    "n = int(input(\"Enter the number of rows: \"))\n",
    "if n <= 0:\n",
    "    print(\"Please enter a positive integer.\")\n",
    "else:\n",
    "    lower_triangle(n)\n",
    "    upper_triangle(n)\n",
    "    pyramid(n)"
   ]
  },
  {
   "cell_type": "code",
   "execution_count": null,
   "id": "bef22737",
   "metadata": {},
   "outputs": [],
   "source": []
  },
  {
   "cell_type": "code",
   "execution_count": null,
   "id": "3a68304f",
   "metadata": {},
   "outputs": [],
   "source": []
  }
 ],
 "metadata": {
  "kernelspec": {
   "display_name": "Python 3 (ipykernel)",
   "language": "python",
   "name": "python3"
  },
  "language_info": {
   "codemirror_mode": {
    "name": "ipython",
    "version": 3
   },
   "file_extension": ".py",
   "mimetype": "text/x-python",
   "name": "python",
   "nbconvert_exporter": "python",
   "pygments_lexer": "ipython3",
   "version": "3.11.5"
  }
 },
 "nbformat": 4,
 "nbformat_minor": 5
}
